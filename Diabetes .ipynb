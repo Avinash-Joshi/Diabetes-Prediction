{
 "cells": [
  {
   "cell_type": "code",
   "execution_count": 1,
   "id": "6b0fe427",
   "metadata": {},
   "outputs": [],
   "source": [
    "# importing modules\n",
    "import pandas as pd\n",
    "import numpy as np\n",
    "import matplotlib.pyplot as plt\n",
    "from sklearn import linear_model\n",
    "import seaborn as sns"
   ]
  },
  {
   "cell_type": "code",
   "execution_count": 2,
   "id": "d4ebc5a5",
   "metadata": {},
   "outputs": [
    {
     "data": {
      "text/html": [
       "<div>\n",
       "<style scoped>\n",
       "    .dataframe tbody tr th:only-of-type {\n",
       "        vertical-align: middle;\n",
       "    }\n",
       "\n",
       "    .dataframe tbody tr th {\n",
       "        vertical-align: top;\n",
       "    }\n",
       "\n",
       "    .dataframe thead th {\n",
       "        text-align: right;\n",
       "    }\n",
       "</style>\n",
       "<table border=\"1\" class=\"dataframe\">\n",
       "  <thead>\n",
       "    <tr style=\"text-align: right;\">\n",
       "      <th></th>\n",
       "      <th>Pregnancies</th>\n",
       "      <th>Glucose</th>\n",
       "      <th>BloodPressure</th>\n",
       "      <th>SkinThickness</th>\n",
       "      <th>Insulin</th>\n",
       "      <th>BMI</th>\n",
       "      <th>DiabetesPedigreeFunction</th>\n",
       "      <th>Age</th>\n",
       "      <th>Outcome</th>\n",
       "    </tr>\n",
       "  </thead>\n",
       "  <tbody>\n",
       "    <tr>\n",
       "      <th>0</th>\n",
       "      <td>6</td>\n",
       "      <td>148</td>\n",
       "      <td>72</td>\n",
       "      <td>35</td>\n",
       "      <td>0</td>\n",
       "      <td>33.6</td>\n",
       "      <td>0.627</td>\n",
       "      <td>50</td>\n",
       "      <td>1</td>\n",
       "    </tr>\n",
       "    <tr>\n",
       "      <th>1</th>\n",
       "      <td>1</td>\n",
       "      <td>85</td>\n",
       "      <td>66</td>\n",
       "      <td>29</td>\n",
       "      <td>0</td>\n",
       "      <td>26.6</td>\n",
       "      <td>0.351</td>\n",
       "      <td>31</td>\n",
       "      <td>0</td>\n",
       "    </tr>\n",
       "    <tr>\n",
       "      <th>2</th>\n",
       "      <td>8</td>\n",
       "      <td>183</td>\n",
       "      <td>64</td>\n",
       "      <td>0</td>\n",
       "      <td>0</td>\n",
       "      <td>23.3</td>\n",
       "      <td>0.672</td>\n",
       "      <td>32</td>\n",
       "      <td>1</td>\n",
       "    </tr>\n",
       "    <tr>\n",
       "      <th>3</th>\n",
       "      <td>1</td>\n",
       "      <td>89</td>\n",
       "      <td>66</td>\n",
       "      <td>23</td>\n",
       "      <td>94</td>\n",
       "      <td>28.1</td>\n",
       "      <td>0.167</td>\n",
       "      <td>21</td>\n",
       "      <td>0</td>\n",
       "    </tr>\n",
       "    <tr>\n",
       "      <th>4</th>\n",
       "      <td>0</td>\n",
       "      <td>137</td>\n",
       "      <td>40</td>\n",
       "      <td>35</td>\n",
       "      <td>168</td>\n",
       "      <td>43.1</td>\n",
       "      <td>2.288</td>\n",
       "      <td>33</td>\n",
       "      <td>1</td>\n",
       "    </tr>\n",
       "    <tr>\n",
       "      <th>...</th>\n",
       "      <td>...</td>\n",
       "      <td>...</td>\n",
       "      <td>...</td>\n",
       "      <td>...</td>\n",
       "      <td>...</td>\n",
       "      <td>...</td>\n",
       "      <td>...</td>\n",
       "      <td>...</td>\n",
       "      <td>...</td>\n",
       "    </tr>\n",
       "    <tr>\n",
       "      <th>763</th>\n",
       "      <td>10</td>\n",
       "      <td>101</td>\n",
       "      <td>76</td>\n",
       "      <td>48</td>\n",
       "      <td>180</td>\n",
       "      <td>32.9</td>\n",
       "      <td>0.171</td>\n",
       "      <td>63</td>\n",
       "      <td>0</td>\n",
       "    </tr>\n",
       "    <tr>\n",
       "      <th>764</th>\n",
       "      <td>2</td>\n",
       "      <td>122</td>\n",
       "      <td>70</td>\n",
       "      <td>27</td>\n",
       "      <td>0</td>\n",
       "      <td>36.8</td>\n",
       "      <td>0.340</td>\n",
       "      <td>27</td>\n",
       "      <td>0</td>\n",
       "    </tr>\n",
       "    <tr>\n",
       "      <th>765</th>\n",
       "      <td>5</td>\n",
       "      <td>121</td>\n",
       "      <td>72</td>\n",
       "      <td>23</td>\n",
       "      <td>112</td>\n",
       "      <td>26.2</td>\n",
       "      <td>0.245</td>\n",
       "      <td>30</td>\n",
       "      <td>0</td>\n",
       "    </tr>\n",
       "    <tr>\n",
       "      <th>766</th>\n",
       "      <td>1</td>\n",
       "      <td>126</td>\n",
       "      <td>60</td>\n",
       "      <td>0</td>\n",
       "      <td>0</td>\n",
       "      <td>30.1</td>\n",
       "      <td>0.349</td>\n",
       "      <td>47</td>\n",
       "      <td>1</td>\n",
       "    </tr>\n",
       "    <tr>\n",
       "      <th>767</th>\n",
       "      <td>1</td>\n",
       "      <td>93</td>\n",
       "      <td>70</td>\n",
       "      <td>31</td>\n",
       "      <td>0</td>\n",
       "      <td>30.4</td>\n",
       "      <td>0.315</td>\n",
       "      <td>23</td>\n",
       "      <td>0</td>\n",
       "    </tr>\n",
       "  </tbody>\n",
       "</table>\n",
       "<p>768 rows × 9 columns</p>\n",
       "</div>"
      ],
      "text/plain": [
       "     Pregnancies  Glucose  BloodPressure  SkinThickness  Insulin   BMI  \\\n",
       "0              6      148             72             35        0  33.6   \n",
       "1              1       85             66             29        0  26.6   \n",
       "2              8      183             64              0        0  23.3   \n",
       "3              1       89             66             23       94  28.1   \n",
       "4              0      137             40             35      168  43.1   \n",
       "..           ...      ...            ...            ...      ...   ...   \n",
       "763           10      101             76             48      180  32.9   \n",
       "764            2      122             70             27        0  36.8   \n",
       "765            5      121             72             23      112  26.2   \n",
       "766            1      126             60              0        0  30.1   \n",
       "767            1       93             70             31        0  30.4   \n",
       "\n",
       "     DiabetesPedigreeFunction  Age  Outcome  \n",
       "0                       0.627   50        1  \n",
       "1                       0.351   31        0  \n",
       "2                       0.672   32        1  \n",
       "3                       0.167   21        0  \n",
       "4                       2.288   33        1  \n",
       "..                        ...  ...      ...  \n",
       "763                     0.171   63        0  \n",
       "764                     0.340   27        0  \n",
       "765                     0.245   30        0  \n",
       "766                     0.349   47        1  \n",
       "767                     0.315   23        0  \n",
       "\n",
       "[768 rows x 9 columns]"
      ]
     },
     "execution_count": 2,
     "metadata": {},
     "output_type": "execute_result"
    }
   ],
   "source": [
    "# reading csv file\n",
    "df=pd.read_csv('diabetes.csv')\n",
    "df"
   ]
  },
  {
   "cell_type": "code",
   "execution_count": 3,
   "id": "5fc375af",
   "metadata": {},
   "outputs": [
    {
     "data": {
      "text/plain": [
       "(768, 9)"
      ]
     },
     "execution_count": 3,
     "metadata": {},
     "output_type": "execute_result"
    }
   ],
   "source": [
    "df.shape"
   ]
  },
  {
   "cell_type": "markdown",
   "id": "b5f08f0c",
   "metadata": {},
   "source": [
    "# Cleaning of data"
   ]
  },
  {
   "cell_type": "code",
   "execution_count": 4,
   "id": "e7b2c07b",
   "metadata": {},
   "outputs": [
    {
     "name": "stdout",
     "output_type": "stream",
     "text": [
      "<class 'pandas.core.frame.DataFrame'>\n",
      "RangeIndex: 768 entries, 0 to 767\n",
      "Data columns (total 9 columns):\n",
      " #   Column                    Non-Null Count  Dtype  \n",
      "---  ------                    --------------  -----  \n",
      " 0   Pregnancies               768 non-null    int64  \n",
      " 1   Glucose                   768 non-null    int64  \n",
      " 2   BloodPressure             768 non-null    int64  \n",
      " 3   SkinThickness             768 non-null    int64  \n",
      " 4   Insulin                   768 non-null    int64  \n",
      " 5   BMI                       768 non-null    float64\n",
      " 6   DiabetesPedigreeFunction  768 non-null    float64\n",
      " 7   Age                       768 non-null    int64  \n",
      " 8   Outcome                   768 non-null    int64  \n",
      "dtypes: float64(2), int64(7)\n",
      "memory usage: 54.1 KB\n"
     ]
    }
   ],
   "source": [
    "df.info()"
   ]
  },
  {
   "cell_type": "code",
   "execution_count": 5,
   "id": "db8395e3",
   "metadata": {},
   "outputs": [
    {
     "data": {
      "text/plain": [
       "0"
      ]
     },
     "execution_count": 5,
     "metadata": {},
     "output_type": "execute_result"
    }
   ],
   "source": [
    "df.isnull().sum().sum()"
   ]
  },
  {
   "cell_type": "code",
   "execution_count": 6,
   "id": "5ac4db2f",
   "metadata": {},
   "outputs": [
    {
     "data": {
      "text/plain": [
       "<AxesSubplot:>"
      ]
     },
     "execution_count": 6,
     "metadata": {},
     "output_type": "execute_result"
    },
    {
     "data": {
      "image/png": "[encoded data removed]",
      "text/plain": [
       "<Figure size 432x288 with 2 Axes>"
      ]
     },
     "metadata": {
      "needs_background": "light"
     },
     "output_type": "display_data"
    }
   ],
   "source": [
    "# No null values\n",
    "sns.heatmap(df.isnull())"
   ]
  },
  {
   "cell_type": "code",
   "execution_count": 7,
   "id": "7b554ce6",
   "metadata": {},
   "outputs": [
    {
     "data": {
      "text/plain": [
       "Pregnancies                 0.221898\n",
       "Glucose                     0.466581\n",
       "BloodPressure               0.065068\n",
       "SkinThickness               0.074752\n",
       "Insulin                     0.130548\n",
       "BMI                         0.292695\n",
       "DiabetesPedigreeFunction    0.173844\n",
       "Age                         0.238356\n",
       "Outcome                     1.000000\n",
       "Name: Outcome, dtype: float64"
      ]
     },
     "execution_count": 7,
     "metadata": {},
     "output_type": "execute_result"
    }
   ],
   "source": [
    "# It is used to show how each column affect the dependent variable\n",
    "correlation = df.corr()['Outcome']\n",
    "correlation"
   ]
  },
  {
   "cell_type": "markdown",
   "id": "7a2c58c8",
   "metadata": {},
   "source": [
    "# Feature Scaling"
   ]
  },
  {
   "cell_type": "code",
   "execution_count": 8,
   "id": "95b97cb2",
   "metadata": {},
   "outputs": [],
   "source": [
    "from sklearn.preprocessing import StandardScaler"
   ]
  },
  {
   "cell_type": "code",
   "execution_count": 9,
   "id": "8b526e0b",
   "metadata": {},
   "outputs": [
    {
     "data": {
      "text/html": [
       "<div>\n",
       "<style scoped>\n",
       "    .dataframe tbody tr th:only-of-type {\n",
       "        vertical-align: middle;\n",
       "    }\n",
       "\n",
       "    .dataframe tbody tr th {\n",
       "        vertical-align: top;\n",
       "    }\n",
       "\n",
       "    .dataframe thead th {\n",
       "        text-align: right;\n",
       "    }\n",
       "</style>\n",
       "<table border=\"1\" class=\"dataframe\">\n",
       "  <thead>\n",
       "    <tr style=\"text-align: right;\">\n",
       "      <th></th>\n",
       "      <th>Pregnancies</th>\n",
       "      <th>Glucose</th>\n",
       "      <th>BloodPressure</th>\n",
       "      <th>SkinThickness</th>\n",
       "      <th>Insulin</th>\n",
       "      <th>BMI</th>\n",
       "      <th>DiabetesPedigreeFunction</th>\n",
       "      <th>Age</th>\n",
       "    </tr>\n",
       "  </thead>\n",
       "  <tbody>\n",
       "    <tr>\n",
       "      <th>0</th>\n",
       "      <td>0.639947</td>\n",
       "      <td>0.848324</td>\n",
       "      <td>0.149641</td>\n",
       "      <td>0.907270</td>\n",
       "      <td>-0.692891</td>\n",
       "      <td>0.204013</td>\n",
       "      <td>0.468492</td>\n",
       "      <td>1.425995</td>\n",
       "    </tr>\n",
       "    <tr>\n",
       "      <th>1</th>\n",
       "      <td>-0.844885</td>\n",
       "      <td>-1.123396</td>\n",
       "      <td>-0.160546</td>\n",
       "      <td>0.530902</td>\n",
       "      <td>-0.692891</td>\n",
       "      <td>-0.684422</td>\n",
       "      <td>-0.365061</td>\n",
       "      <td>-0.190672</td>\n",
       "    </tr>\n",
       "    <tr>\n",
       "      <th>2</th>\n",
       "      <td>1.233880</td>\n",
       "      <td>1.943724</td>\n",
       "      <td>-0.263941</td>\n",
       "      <td>-1.288212</td>\n",
       "      <td>-0.692891</td>\n",
       "      <td>-1.103255</td>\n",
       "      <td>0.604397</td>\n",
       "      <td>-0.105584</td>\n",
       "    </tr>\n",
       "    <tr>\n",
       "      <th>3</th>\n",
       "      <td>-0.844885</td>\n",
       "      <td>-0.998208</td>\n",
       "      <td>-0.160546</td>\n",
       "      <td>0.154533</td>\n",
       "      <td>0.123302</td>\n",
       "      <td>-0.494043</td>\n",
       "      <td>-0.920763</td>\n",
       "      <td>-1.041549</td>\n",
       "    </tr>\n",
       "    <tr>\n",
       "      <th>4</th>\n",
       "      <td>-1.141852</td>\n",
       "      <td>0.504055</td>\n",
       "      <td>-1.504687</td>\n",
       "      <td>0.907270</td>\n",
       "      <td>0.765836</td>\n",
       "      <td>1.409746</td>\n",
       "      <td>5.484909</td>\n",
       "      <td>-0.020496</td>\n",
       "    </tr>\n",
       "  </tbody>\n",
       "</table>\n",
       "</div>"
      ],
      "text/plain": [
       "   Pregnancies   Glucose  BloodPressure  SkinThickness   Insulin       BMI  \\\n",
       "0     0.639947  0.848324       0.149641       0.907270 -0.692891  0.204013   \n",
       "1    -0.844885 -1.123396      -0.160546       0.530902 -0.692891 -0.684422   \n",
       "2     1.233880  1.943724      -0.263941      -1.288212 -0.692891 -1.103255   \n",
       "3    -0.844885 -0.998208      -0.160546       0.154533  0.123302 -0.494043   \n",
       "4    -1.141852  0.504055      -1.504687       0.907270  0.765836  1.409746   \n",
       "\n",
       "   DiabetesPedigreeFunction       Age  \n",
       "0                  0.468492  1.425995  \n",
       "1                 -0.365061 -0.190672  \n",
       "2                  0.604397 -0.105584  \n",
       "3                 -0.920763 -1.041549  \n",
       "4                  5.484909 -0.020496  "
      ]
     },
     "execution_count": 9,
     "metadata": {},
     "output_type": "execute_result"
    }
   ],
   "source": [
    "df_scaled_X=pd.DataFrame(StandardScaler().fit_transform(df.iloc[:,:-1]), columns=df.iloc[:,:-1].columns)\n",
    "df_scaled_X.head()"
   ]
  },
  {
   "cell_type": "code",
   "execution_count": 10,
   "id": "f0782418",
   "metadata": {},
   "outputs": [
    {
     "data": {
      "text/plain": [
       "(768, 8)"
      ]
     },
     "execution_count": 10,
     "metadata": {},
     "output_type": "execute_result"
    }
   ],
   "source": [
    "df_scaled_X.shape"
   ]
  },
  {
   "cell_type": "code",
   "execution_count": 11,
   "id": "9d71318c",
   "metadata": {},
   "outputs": [
    {
     "data": {
      "text/plain": [
       "0      1\n",
       "1      0\n",
       "2      1\n",
       "3      0\n",
       "4      1\n",
       "      ..\n",
       "763    0\n",
       "764    0\n",
       "765    0\n",
       "766    1\n",
       "767    0\n",
       "Name: Outcome, Length: 768, dtype: int64"
      ]
     },
     "execution_count": 11,
     "metadata": {},
     "output_type": "execute_result"
    }
   ],
   "source": [
    "df['Outcome']"
   ]
  },
  {
   "cell_type": "markdown",
   "id": "a0a525b1",
   "metadata": {},
   "source": [
    "# train test split"
   ]
  },
  {
   "cell_type": "code",
   "execution_count": 12,
   "id": "d68908d8",
   "metadata": {},
   "outputs": [],
   "source": [
    "from sklearn.model_selection import train_test_split"
   ]
  },
  {
   "cell_type": "code",
   "execution_count": 13,
   "id": "e6b4b091",
   "metadata": {},
   "outputs": [],
   "source": [
    "X_train,X_test,y_train,y_test = train_test_split(df_scaled_X,df.Outcome, test_size=0.2,random_state=28)"
   ]
  },
  {
   "cell_type": "code",
   "execution_count": 14,
   "id": "d28391bd",
   "metadata": {},
   "outputs": [
    {
     "data": {
      "text/html": [
       "<div>\n",
       "<style scoped>\n",
       "    .dataframe tbody tr th:only-of-type {\n",
       "        vertical-align: middle;\n",
       "    }\n",
       "\n",
       "    .dataframe tbody tr th {\n",
       "        vertical-align: top;\n",
       "    }\n",
       "\n",
       "    .dataframe thead th {\n",
       "        text-align: right;\n",
       "    }\n",
       "</style>\n",
       "<table border=\"1\" class=\"dataframe\">\n",
       "  <thead>\n",
       "    <tr style=\"text-align: right;\">\n",
       "      <th></th>\n",
       "      <th>Pregnancies</th>\n",
       "      <th>Glucose</th>\n",
       "      <th>BloodPressure</th>\n",
       "      <th>SkinThickness</th>\n",
       "      <th>Insulin</th>\n",
       "      <th>BMI</th>\n",
       "      <th>DiabetesPedigreeFunction</th>\n",
       "      <th>Age</th>\n",
       "    </tr>\n",
       "  </thead>\n",
       "  <tbody>\n",
       "    <tr>\n",
       "      <th>465</th>\n",
       "      <td>-1.141852</td>\n",
       "      <td>0.097192</td>\n",
       "      <td>-0.677523</td>\n",
       "      <td>-0.472747</td>\n",
       "      <td>0.218813</td>\n",
       "      <td>-1.293634</td>\n",
       "      <td>-0.060029</td>\n",
       "      <td>-1.041549</td>\n",
       "    </tr>\n",
       "    <tr>\n",
       "      <th>46</th>\n",
       "      <td>-0.844885</td>\n",
       "      <td>0.785730</td>\n",
       "      <td>-0.677523</td>\n",
       "      <td>-1.288212</td>\n",
       "      <td>-0.692891</td>\n",
       "      <td>-0.290972</td>\n",
       "      <td>0.278225</td>\n",
       "      <td>-0.360847</td>\n",
       "    </tr>\n",
       "    <tr>\n",
       "      <th>89</th>\n",
       "      <td>-0.844885</td>\n",
       "      <td>-0.434859</td>\n",
       "      <td>-0.057150</td>\n",
       "      <td>-0.096379</td>\n",
       "      <td>-0.692891</td>\n",
       "      <td>-0.697114</td>\n",
       "      <td>-0.926803</td>\n",
       "      <td>-0.786286</td>\n",
       "    </tr>\n",
       "    <tr>\n",
       "      <th>86</th>\n",
       "      <td>2.718712</td>\n",
       "      <td>-0.466156</td>\n",
       "      <td>0.149641</td>\n",
       "      <td>2.099103</td>\n",
       "      <td>-0.692891</td>\n",
       "      <td>0.584771</td>\n",
       "      <td>-0.887541</td>\n",
       "      <td>1.000557</td>\n",
       "    </tr>\n",
       "    <tr>\n",
       "      <th>413</th>\n",
       "      <td>-0.844885</td>\n",
       "      <td>0.691838</td>\n",
       "      <td>0.253036</td>\n",
       "      <td>0.091805</td>\n",
       "      <td>-0.163234</td>\n",
       "      <td>-0.735190</td>\n",
       "      <td>-0.651972</td>\n",
       "      <td>-1.041549</td>\n",
       "    </tr>\n",
       "    <tr>\n",
       "      <th>...</th>\n",
       "      <td>...</td>\n",
       "      <td>...</td>\n",
       "      <td>...</td>\n",
       "      <td>...</td>\n",
       "      <td>...</td>\n",
       "      <td>...</td>\n",
       "      <td>...</td>\n",
       "      <td>...</td>\n",
       "    </tr>\n",
       "    <tr>\n",
       "      <th>259</th>\n",
       "      <td>2.124780</td>\n",
       "      <td>1.067404</td>\n",
       "      <td>0.356432</td>\n",
       "      <td>0.468173</td>\n",
       "      <td>0.609544</td>\n",
       "      <td>0.165937</td>\n",
       "      <td>2.661098</td>\n",
       "      <td>1.511083</td>\n",
       "    </tr>\n",
       "    <tr>\n",
       "      <th>32</th>\n",
       "      <td>-0.250952</td>\n",
       "      <td>-1.029505</td>\n",
       "      <td>-0.574128</td>\n",
       "      <td>-0.598204</td>\n",
       "      <td>-0.224014</td>\n",
       "      <td>-0.912877</td>\n",
       "      <td>-0.618751</td>\n",
       "      <td>-0.956462</td>\n",
       "    </tr>\n",
       "    <tr>\n",
       "      <th>278</th>\n",
       "      <td>0.342981</td>\n",
       "      <td>-0.215779</td>\n",
       "      <td>0.253036</td>\n",
       "      <td>-1.288212</td>\n",
       "      <td>-0.692891</td>\n",
       "      <td>-0.900185</td>\n",
       "      <td>0.821846</td>\n",
       "      <td>2.021610</td>\n",
       "    </tr>\n",
       "    <tr>\n",
       "      <th>517</th>\n",
       "      <td>0.936914</td>\n",
       "      <td>0.128489</td>\n",
       "      <td>0.873409</td>\n",
       "      <td>-1.288212</td>\n",
       "      <td>-0.692891</td>\n",
       "      <td>0.711690</td>\n",
       "      <td>-0.507006</td>\n",
       "      <td>1.511083</td>\n",
       "    </tr>\n",
       "    <tr>\n",
       "      <th>257</th>\n",
       "      <td>-0.547919</td>\n",
       "      <td>-0.215779</td>\n",
       "      <td>-0.057150</td>\n",
       "      <td>0.091805</td>\n",
       "      <td>-0.692891</td>\n",
       "      <td>-0.417892</td>\n",
       "      <td>-1.147272</td>\n",
       "      <td>-0.701198</td>\n",
       "    </tr>\n",
       "  </tbody>\n",
       "</table>\n",
       "<p>614 rows × 8 columns</p>\n",
       "</div>"
      ],
      "text/plain": [
       "     Pregnancies   Glucose  BloodPressure  SkinThickness   Insulin       BMI  \\\n",
       "465    -1.141852  0.097192      -0.677523      -0.472747  0.218813 -1.293634   \n",
       "46     -0.844885  0.785730      -0.677523      -1.288212 -0.692891 -0.290972   \n",
       "89     -0.844885 -0.434859      -0.057150      -0.096379 -0.692891 -0.697114   \n",
       "86      2.718712 -0.466156       0.149641       2.099103 -0.692891  0.584771   \n",
       "413    -0.844885  0.691838       0.253036       0.091805 -0.163234 -0.735190   \n",
       "..           ...       ...            ...            ...       ...       ...   \n",
       "259     2.124780  1.067404       0.356432       0.468173  0.609544  0.165937   \n",
       "32     -0.250952 -1.029505      -0.574128      -0.598204 -0.224014 -0.912877   \n",
       "278     0.342981 -0.215779       0.253036      -1.288212 -0.692891 -0.900185   \n",
       "517     0.936914  0.128489       0.873409      -1.288212 -0.692891  0.711690   \n",
       "257    -0.547919 -0.215779      -0.057150       0.091805 -0.692891 -0.417892   \n",
       "\n",
       "     DiabetesPedigreeFunction       Age  \n",
       "465                 -0.060029 -1.041549  \n",
       "46                   0.278225 -0.360847  \n",
       "89                  -0.926803 -0.786286  \n",
       "86                  -0.887541  1.000557  \n",
       "413                 -0.651972 -1.041549  \n",
       "..                        ...       ...  \n",
       "259                  2.661098  1.511083  \n",
       "32                  -0.618751 -0.956462  \n",
       "278                  0.821846  2.021610  \n",
       "517                 -0.507006  1.511083  \n",
       "257                 -1.147272 -0.701198  \n",
       "\n",
       "[614 rows x 8 columns]"
      ]
     },
     "execution_count": 14,
     "metadata": {},
     "output_type": "execute_result"
    }
   ],
   "source": [
    "X_train"
   ]
  },
  {
   "cell_type": "code",
   "execution_count": 15,
   "id": "2e088823",
   "metadata": {},
   "outputs": [
    {
     "data": {
      "text/plain": [
       "465    0\n",
       "46     0\n",
       "89     0\n",
       "86     0\n",
       "413    0\n",
       "      ..\n",
       "259    1\n",
       "32     0\n",
       "278    0\n",
       "517    0\n",
       "257    0\n",
       "Name: Outcome, Length: 614, dtype: int64"
      ]
     },
     "execution_count": 15,
     "metadata": {},
     "output_type": "execute_result"
    }
   ],
   "source": [
    "y_train"
   ]
  },
  {
   "cell_type": "code",
   "execution_count": 16,
   "id": "e73bd909",
   "metadata": {},
   "outputs": [
    {
     "data": {
      "text/html": [
       "<div>\n",
       "<style scoped>\n",
       "    .dataframe tbody tr th:only-of-type {\n",
       "        vertical-align: middle;\n",
       "    }\n",
       "\n",
       "    .dataframe tbody tr th {\n",
       "        vertical-align: top;\n",
       "    }\n",
       "\n",
       "    .dataframe thead th {\n",
       "        text-align: right;\n",
       "    }\n",
       "</style>\n",
       "<table border=\"1\" class=\"dataframe\">\n",
       "  <thead>\n",
       "    <tr style=\"text-align: right;\">\n",
       "      <th></th>\n",
       "      <th>Pregnancies</th>\n",
       "      <th>Glucose</th>\n",
       "      <th>BloodPressure</th>\n",
       "      <th>SkinThickness</th>\n",
       "      <th>Insulin</th>\n",
       "      <th>BMI</th>\n",
       "      <th>DiabetesPedigreeFunction</th>\n",
       "      <th>Age</th>\n",
       "    </tr>\n",
       "  </thead>\n",
       "  <tbody>\n",
       "    <tr>\n",
       "      <th>728</th>\n",
       "      <td>-0.547919</td>\n",
       "      <td>1.693347</td>\n",
       "      <td>0.976805</td>\n",
       "      <td>-1.288212</td>\n",
       "      <td>-0.692891</td>\n",
       "      <td>-1.154023</td>\n",
       "      <td>-0.440564</td>\n",
       "      <td>-0.956462</td>\n",
       "    </tr>\n",
       "    <tr>\n",
       "      <th>392</th>\n",
       "      <td>-0.844885</td>\n",
       "      <td>0.316272</td>\n",
       "      <td>-0.263941</td>\n",
       "      <td>-0.410019</td>\n",
       "      <td>2.910511</td>\n",
       "      <td>-1.052488</td>\n",
       "      <td>-0.250296</td>\n",
       "      <td>-1.041549</td>\n",
       "    </tr>\n",
       "    <tr>\n",
       "      <th>68</th>\n",
       "      <td>-0.844885</td>\n",
       "      <td>-0.810425</td>\n",
       "      <td>-0.160546</td>\n",
       "      <td>-0.472747</td>\n",
       "      <td>-0.362941</td>\n",
       "      <td>-1.572857</td>\n",
       "      <td>-0.416403</td>\n",
       "      <td>-0.701198</td>\n",
       "    </tr>\n",
       "    <tr>\n",
       "      <th>48</th>\n",
       "      <td>0.936914</td>\n",
       "      <td>-0.560048</td>\n",
       "      <td>-0.160546</td>\n",
       "      <td>0.719086</td>\n",
       "      <td>-0.692891</td>\n",
       "      <td>0.902069</td>\n",
       "      <td>-0.386202</td>\n",
       "      <td>-0.190672</td>\n",
       "    </tr>\n",
       "    <tr>\n",
       "      <th>74</th>\n",
       "      <td>-0.844885</td>\n",
       "      <td>-1.311179</td>\n",
       "      <td>0.304734</td>\n",
       "      <td>0.593630</td>\n",
       "      <td>-0.692891</td>\n",
       "      <td>0.000942</td>\n",
       "      <td>-0.229155</td>\n",
       "      <td>-0.956462</td>\n",
       "    </tr>\n",
       "    <tr>\n",
       "      <th>...</th>\n",
       "      <td>...</td>\n",
       "      <td>...</td>\n",
       "      <td>...</td>\n",
       "      <td>...</td>\n",
       "      <td>...</td>\n",
       "      <td>...</td>\n",
       "      <td>...</td>\n",
       "      <td>...</td>\n",
       "    </tr>\n",
       "    <tr>\n",
       "      <th>412</th>\n",
       "      <td>-0.844885</td>\n",
       "      <td>0.691838</td>\n",
       "      <td>0.770014</td>\n",
       "      <td>0.154533</td>\n",
       "      <td>1.998807</td>\n",
       "      <td>1.320902</td>\n",
       "      <td>1.824525</td>\n",
       "      <td>-0.956462</td>\n",
       "    </tr>\n",
       "    <tr>\n",
       "      <th>233</th>\n",
       "      <td>0.046014</td>\n",
       "      <td>0.034598</td>\n",
       "      <td>-0.057150</td>\n",
       "      <td>-1.288212</td>\n",
       "      <td>-0.692891</td>\n",
       "      <td>0.381700</td>\n",
       "      <td>-0.235196</td>\n",
       "      <td>-0.360847</td>\n",
       "    </tr>\n",
       "    <tr>\n",
       "      <th>619</th>\n",
       "      <td>-1.141852</td>\n",
       "      <td>-0.059293</td>\n",
       "      <td>-3.572597</td>\n",
       "      <td>-1.288212</td>\n",
       "      <td>-0.692891</td>\n",
       "      <td>0.051710</td>\n",
       "      <td>-0.999286</td>\n",
       "      <td>-0.786286</td>\n",
       "    </tr>\n",
       "    <tr>\n",
       "      <th>557</th>\n",
       "      <td>1.233880</td>\n",
       "      <td>-0.340968</td>\n",
       "      <td>0.356432</td>\n",
       "      <td>-1.288212</td>\n",
       "      <td>-0.692891</td>\n",
       "      <td>-0.532119</td>\n",
       "      <td>-0.709354</td>\n",
       "      <td>2.106697</td>\n",
       "    </tr>\n",
       "    <tr>\n",
       "      <th>301</th>\n",
       "      <td>-0.547919</td>\n",
       "      <td>0.723135</td>\n",
       "      <td>-0.574128</td>\n",
       "      <td>0.781814</td>\n",
       "      <td>0.479300</td>\n",
       "      <td>-0.049826</td>\n",
       "      <td>-0.150632</td>\n",
       "      <td>-0.701198</td>\n",
       "    </tr>\n",
       "  </tbody>\n",
       "</table>\n",
       "<p>154 rows × 8 columns</p>\n",
       "</div>"
      ],
      "text/plain": [
       "     Pregnancies   Glucose  BloodPressure  SkinThickness   Insulin       BMI  \\\n",
       "728    -0.547919  1.693347       0.976805      -1.288212 -0.692891 -1.154023   \n",
       "392    -0.844885  0.316272      -0.263941      -0.410019  2.910511 -1.052488   \n",
       "68     -0.844885 -0.810425      -0.160546      -0.472747 -0.362941 -1.572857   \n",
       "48      0.936914 -0.560048      -0.160546       0.719086 -0.692891  0.902069   \n",
       "74     -0.844885 -1.311179       0.304734       0.593630 -0.692891  0.000942   \n",
       "..           ...       ...            ...            ...       ...       ...   \n",
       "412    -0.844885  0.691838       0.770014       0.154533  1.998807  1.320902   \n",
       "233     0.046014  0.034598      -0.057150      -1.288212 -0.692891  0.381700   \n",
       "619    -1.141852 -0.059293      -3.572597      -1.288212 -0.692891  0.051710   \n",
       "557     1.233880 -0.340968       0.356432      -1.288212 -0.692891 -0.532119   \n",
       "301    -0.547919  0.723135      -0.574128       0.781814  0.479300 -0.049826   \n",
       "\n",
       "     DiabetesPedigreeFunction       Age  \n",
       "728                 -0.440564 -0.956462  \n",
       "392                 -0.250296 -1.041549  \n",
       "68                  -0.416403 -0.701198  \n",
       "48                  -0.386202 -0.190672  \n",
       "74                  -0.229155 -0.956462  \n",
       "..                        ...       ...  \n",
       "412                  1.824525 -0.956462  \n",
       "233                 -0.235196 -0.360847  \n",
       "619                 -0.999286 -0.786286  \n",
       "557                 -0.709354  2.106697  \n",
       "301                 -0.150632 -0.701198  \n",
       "\n",
       "[154 rows x 8 columns]"
      ]
     },
     "execution_count": 16,
     "metadata": {},
     "output_type": "execute_result"
    }
   ],
   "source": [
    "X_test"
   ]
  },
  {
   "cell_type": "code",
   "execution_count": 17,
   "id": "c198a5a5",
   "metadata": {},
   "outputs": [
    {
     "data": {
      "text/plain": [
       "728    0\n",
       "392    0\n",
       "68     0\n",
       "48     1\n",
       "74     0\n",
       "      ..\n",
       "412    0\n",
       "233    0\n",
       "619    1\n",
       "557    0\n",
       "301    1\n",
       "Name: Outcome, Length: 154, dtype: int64"
      ]
     },
     "execution_count": 17,
     "metadata": {},
     "output_type": "execute_result"
    }
   ],
   "source": [
    "y_test"
   ]
  },
  {
   "cell_type": "markdown",
   "id": "fb0789bb",
   "metadata": {},
   "source": [
    "# Applying logistics regression"
   ]
  },
  {
   "cell_type": "code",
   "execution_count": 18,
   "id": "522c44a9",
   "metadata": {},
   "outputs": [],
   "source": [
    "from sklearn.linear_model import LogisticRegression "
   ]
  },
  {
   "cell_type": "code",
   "execution_count": 19,
   "id": "73e46892",
   "metadata": {},
   "outputs": [],
   "source": [
    "model=LogisticRegression()"
   ]
  },
  {
   "cell_type": "code",
   "execution_count": 20,
   "id": "f3a73eb0",
   "metadata": {},
   "outputs": [
    {
     "data": {
      "text/plain": [
       "LogisticRegression()"
      ]
     },
     "execution_count": 20,
     "metadata": {},
     "output_type": "execute_result"
    }
   ],
   "source": [
    "model.fit(X_train,y_train)"
   ]
  },
  {
   "cell_type": "code",
   "execution_count": 21,
   "id": "37ebb79b",
   "metadata": {
    "scrolled": true
   },
   "outputs": [
    {
     "data": {
      "text/plain": [
       "array([0, 0, 0, 0, 0, 1, 0, 1, 0, 0, 0, 0, 1, 0, 0, 0, 0, 1, 1, 0, 0, 0,\n",
       "       0, 1, 0, 0, 0, 1, 1, 0, 0, 0, 1, 0, 1, 0, 0, 0, 0, 1, 0, 0, 0, 0,\n",
       "       1, 0, 0, 1, 0, 0, 0, 0, 1, 0, 0, 0, 0, 0, 1, 0, 1, 1, 1, 0, 0, 0,\n",
       "       0, 1, 0, 0, 1, 1, 0, 0, 1, 0, 1, 1, 0, 0, 0, 0, 0, 0, 0, 0, 0, 0,\n",
       "       0, 0, 1, 1, 0, 1, 0, 0, 0, 0, 0, 0, 0, 0, 0, 0, 0, 0, 0, 0, 0, 0,\n",
       "       1, 1, 0, 1, 1, 0, 1, 0, 0, 0, 1, 0, 0, 1, 1, 0, 0, 0, 1, 0, 0, 0,\n",
       "       0, 0, 0, 0, 1, 0, 0, 0, 1, 0, 0, 0, 0, 1, 1, 0, 1, 0, 0, 0, 0, 1,\n",
       "       0, 1, 1, 0, 0, 0, 1, 0, 0, 0, 0, 0, 0, 1, 0, 0, 0, 0, 0, 0, 1, 0,\n",
       "       0, 1, 0, 1, 1, 0, 1, 0, 1, 1, 0, 1, 0, 0, 0, 0, 0, 0, 0, 1, 0, 0,\n",
       "       0, 0, 0, 1, 0, 1, 1, 0, 1, 0, 1, 1, 0, 0, 0, 0, 0, 0, 0, 0, 1, 0,\n",
       "       1, 0, 0, 0, 0, 0, 1, 0, 0, 0, 0, 0, 0, 0, 0, 0, 0, 0, 0, 0, 0, 1,\n",
       "       0, 0, 1, 0, 0, 1, 1, 0, 0, 1, 0, 1, 0, 0, 0, 0, 0, 0, 1, 0, 0, 0,\n",
       "       0, 1, 0, 1, 1, 1, 0, 0, 0, 0, 0, 0, 0, 0, 1, 0, 1, 1, 0, 0, 0, 0,\n",
       "       0, 0, 0, 0, 0, 1, 0, 0, 0, 0, 0, 1, 1, 0, 0, 0, 0, 0, 1, 0, 0, 0,\n",
       "       0, 0, 0, 0, 0, 0, 0, 0, 0, 1, 0, 0, 0, 0, 0, 0, 0, 0, 0, 0, 0, 0,\n",
       "       0, 1, 0, 0, 1, 1, 0, 1, 0, 0, 0, 0, 0, 0, 0, 0, 0, 1, 0, 1, 1, 1,\n",
       "       0, 0, 1, 1, 1, 0, 0, 1, 1, 0, 0, 0, 0, 1, 1, 1, 0, 0, 0, 0, 0, 1,\n",
       "       0, 0, 0, 1, 0, 1, 1, 0, 1, 1, 0, 0, 0, 1, 0, 0, 0, 0, 0, 1, 1, 0,\n",
       "       0, 0, 1, 0, 0, 0, 0, 0, 0, 0, 0, 0, 0, 0, 0, 0, 0, 0, 0, 0, 1, 1,\n",
       "       0, 0, 0, 0, 0, 0, 0, 0, 0, 0, 0, 0, 0, 0, 0, 1, 0, 0, 1, 1, 1, 0,\n",
       "       0, 0, 0, 0, 0, 0, 1, 0, 0, 1, 0, 0, 0, 0, 0, 0, 0, 0, 0, 1, 0, 0,\n",
       "       0, 0, 1, 1, 0, 0, 0, 0, 1, 1, 0, 0, 0, 1, 1, 1, 1, 0, 0, 0, 0, 0,\n",
       "       1, 1, 0, 0, 0, 0, 0, 1, 0, 0, 0, 0, 0, 0, 1, 0, 0, 0, 1, 0, 0, 1,\n",
       "       1, 0, 1, 0, 1, 0, 0, 0, 0, 0, 1, 1, 1, 0, 1, 0, 0, 0, 0, 1, 0, 0,\n",
       "       0, 0, 1, 0, 1, 1, 0, 1, 0, 1, 1, 1, 0, 0, 0, 0, 0, 1, 0, 1, 0, 0,\n",
       "       0, 0, 0, 0, 0, 0, 0, 0, 0, 1, 0, 0, 0, 1, 1, 0, 1, 0, 1, 0, 0, 0,\n",
       "       0, 1, 0, 0, 0, 0, 1, 0, 1, 0, 0, 1, 1, 0, 0, 0, 0, 0, 0, 1, 0, 0,\n",
       "       1, 1, 0, 0, 0, 0, 1, 1, 1, 0, 0, 0, 1, 0, 0, 1, 0, 0, 1, 0],\n",
       "      dtype=int64)"
      ]
     },
     "execution_count": 21,
     "metadata": {},
     "output_type": "execute_result"
    }
   ],
   "source": [
    "#  predicting the train dataset values\n",
    "model.predict(X_train)"
   ]
  },
  {
   "cell_type": "code",
   "execution_count": 22,
   "id": "cb8b5629",
   "metadata": {},
   "outputs": [
    {
     "data": {
      "text/plain": [
       "0.7703583061889251"
      ]
     },
     "execution_count": 22,
     "metadata": {},
     "output_type": "execute_result"
    }
   ],
   "source": [
    "# score of training dataset\n",
    "model.score(X_train,y_train)"
   ]
  },
  {
   "cell_type": "code",
   "execution_count": 23,
   "id": "b213b4fd",
   "metadata": {},
   "outputs": [
    {
     "data": {
      "text/plain": [
       "array([0, 0, 0, 0, 0, 0, 0, 1, 0, 0, 0, 1, 0, 1, 0, 0, 0, 0, 0, 0, 0, 1,\n",
       "       0, 0, 1, 0, 0, 0, 0, 0, 0, 0, 1, 1, 1, 0, 0, 1, 0, 1, 0, 1, 1, 0,\n",
       "       1, 1, 0, 0, 1, 0, 0, 0, 0, 0, 0, 0, 0, 0, 0, 1, 0, 0, 0, 0, 0, 0,\n",
       "       0, 0, 1, 0, 0, 0, 1, 0, 0, 1, 0, 0, 0, 0, 1, 1, 0, 0, 1, 1, 0, 0,\n",
       "       0, 1, 0, 0, 0, 0, 0, 0, 0, 0, 1, 0, 1, 1, 1, 0, 0, 0, 0, 0, 0, 0,\n",
       "       1, 0, 0, 0, 0, 1, 0, 0, 0, 1, 0, 1, 1, 0, 0, 0, 0, 0, 0, 0, 0, 0,\n",
       "       1, 0, 1, 0, 0, 1, 1, 0, 1, 0, 0, 1, 1, 0, 0, 1, 0, 1, 0, 0, 0, 0],\n",
       "      dtype=int64)"
      ]
     },
     "execution_count": 23,
     "metadata": {},
     "output_type": "execute_result"
    }
   ],
   "source": [
    "# predicting the test dataset values\n",
    "model.predict(X_test)"
   ]
  },
  {
   "cell_type": "code",
   "execution_count": 24,
   "id": "0caada9f",
   "metadata": {},
   "outputs": [
    {
     "data": {
      "text/plain": [
       "0.8116883116883117"
      ]
     },
     "execution_count": 24,
     "metadata": {},
     "output_type": "execute_result"
    }
   ],
   "source": [
    "# score of test dataset\n",
    "model.score(X_test,y_test)"
   ]
  },
  {
   "cell_type": "code",
   "execution_count": 25,
   "id": "cfee23da",
   "metadata": {},
   "outputs": [
    {
     "data": {
      "text/plain": [
       "array([[0.62524856, 0.37475144],\n",
       "       [0.86734789, 0.13265211],\n",
       "       [0.95932718, 0.04067282],\n",
       "       [0.65564832, 0.34435168],\n",
       "       [0.94386418, 0.05613582],\n",
       "       [0.81242415, 0.18757585],\n",
       "       [0.66156539, 0.33843461],\n",
       "       [0.20501412, 0.79498588],\n",
       "       [0.95547191, 0.04452809],\n",
       "       [0.71261282, 0.28738718],\n",
       "       [0.8916635 , 0.1083365 ],\n",
       "       [0.11653205, 0.88346795],\n",
       "       [0.87530091, 0.12469909],\n",
       "       [0.39276015, 0.60723985],\n",
       "       [0.87931194, 0.12068806],\n",
       "       [0.70584144, 0.29415856],\n",
       "       [0.69174635, 0.30825365],\n",
       "       [0.94772648, 0.05227352],\n",
       "       [0.93713781, 0.06286219],\n",
       "       [0.73954737, 0.26045263],\n",
       "       [0.95607629, 0.04392371],\n",
       "       [0.35852547, 0.64147453],\n",
       "       [0.73035552, 0.26964448],\n",
       "       [0.85780457, 0.14219543],\n",
       "       [0.36942772, 0.63057228],\n",
       "       [0.83782019, 0.16217981],\n",
       "       [0.84942918, 0.15057082],\n",
       "       [0.90485906, 0.09514094],\n",
       "       [0.85160747, 0.14839253],\n",
       "       [0.74926801, 0.25073199],\n",
       "       [0.99502969, 0.00497031],\n",
       "       [0.62341682, 0.37658318],\n",
       "       [0.3794051 , 0.6205949 ],\n",
       "       [0.16864403, 0.83135597],\n",
       "       [0.32473117, 0.67526883],\n",
       "       [0.92269284, 0.07730716],\n",
       "       [0.76733944, 0.23266056],\n",
       "       [0.47218333, 0.52781667],\n",
       "       [0.93874465, 0.06125535],\n",
       "       [0.34082693, 0.65917307],\n",
       "       [0.7225231 , 0.2774769 ],\n",
       "       [0.16825156, 0.83174844],\n",
       "       [0.32781799, 0.67218201],\n",
       "       [0.82602372, 0.17397628],\n",
       "       [0.08862202, 0.91137798],\n",
       "       [0.23906233, 0.76093767],\n",
       "       [0.61651913, 0.38348087],\n",
       "       [0.9503414 , 0.0496586 ],\n",
       "       [0.0711408 , 0.9288592 ],\n",
       "       [0.94505868, 0.05494132],\n",
       "       [0.82062098, 0.17937902],\n",
       "       [0.8574057 , 0.1425943 ],\n",
       "       [0.83436397, 0.16563603],\n",
       "       [0.91635701, 0.08364299],\n",
       "       [0.83405565, 0.16594435],\n",
       "       [0.80301307, 0.19698693],\n",
       "       [0.93141437, 0.06858563],\n",
       "       [0.60308688, 0.39691312],\n",
       "       [0.68607018, 0.31392982],\n",
       "       [0.37314827, 0.62685173],\n",
       "       [0.61826087, 0.38173913],\n",
       "       [0.81605782, 0.18394218],\n",
       "       [0.78549028, 0.21450972],\n",
       "       [0.77233614, 0.22766386],\n",
       "       [0.79539837, 0.20460163],\n",
       "       [0.94591953, 0.05408047],\n",
       "       [0.88501711, 0.11498289],\n",
       "       [0.90690989, 0.09309011],\n",
       "       [0.01405309, 0.98594691],\n",
       "       [0.96858511, 0.03141489],\n",
       "       [0.94047046, 0.05952954],\n",
       "       [0.93504336, 0.06495664],\n",
       "       [0.2758814 , 0.7241186 ],\n",
       "       [0.87954869, 0.12045131],\n",
       "       [0.50019347, 0.49980653],\n",
       "       [0.27923252, 0.72076748],\n",
       "       [0.90038432, 0.09961568],\n",
       "       [0.60634287, 0.39365713],\n",
       "       [0.81518619, 0.18481381],\n",
       "       [0.77017509, 0.22982491],\n",
       "       [0.29452768, 0.70547232],\n",
       "       [0.23705346, 0.76294654],\n",
       "       [0.86912197, 0.13087803],\n",
       "       [0.90130685, 0.09869315],\n",
       "       [0.2086981 , 0.7913019 ],\n",
       "       [0.35582248, 0.64417752],\n",
       "       [0.83064151, 0.16935849],\n",
       "       [0.74042349, 0.25957651],\n",
       "       [0.9264921 , 0.0735079 ],\n",
       "       [0.05329419, 0.94670581],\n",
       "       [0.84712206, 0.15287794],\n",
       "       [0.74855701, 0.25144299],\n",
       "       [0.92555789, 0.07444211],\n",
       "       [0.8799534 , 0.1200466 ],\n",
       "       [0.79325239, 0.20674761],\n",
       "       [0.73081726, 0.26918274],\n",
       "       [0.64892093, 0.35107907],\n",
       "       [0.67928927, 0.32071073],\n",
       "       [0.16966114, 0.83033886],\n",
       "       [0.89522257, 0.10477743],\n",
       "       [0.43261261, 0.56738739],\n",
       "       [0.49312791, 0.50687209],\n",
       "       [0.47148082, 0.52851918],\n",
       "       [0.74252258, 0.25747742],\n",
       "       [0.60842065, 0.39157935],\n",
       "       [0.73576455, 0.26423545],\n",
       "       [0.68568882, 0.31431118],\n",
       "       [0.6946404 , 0.3053596 ],\n",
       "       [0.90239777, 0.09760223],\n",
       "       [0.80950147, 0.19049853],\n",
       "       [0.28254768, 0.71745232],\n",
       "       [0.65688411, 0.34311589],\n",
       "       [0.81638511, 0.18361489],\n",
       "       [0.72311515, 0.27688485],\n",
       "       [0.66695177, 0.33304823],\n",
       "       [0.16334082, 0.83665918],\n",
       "       [0.58870953, 0.41129047],\n",
       "       [0.57732068, 0.42267932],\n",
       "       [0.57645175, 0.42354825],\n",
       "       [0.11498012, 0.88501988],\n",
       "       [0.63853311, 0.36146689],\n",
       "       [0.32793931, 0.67206069],\n",
       "       [0.06021716, 0.93978284],\n",
       "       [0.94370451, 0.05629549],\n",
       "       [0.65659837, 0.34340163],\n",
       "       [0.70528201, 0.29471799],\n",
       "       [0.88200537, 0.11799463],\n",
       "       [0.9381834 , 0.0618166 ],\n",
       "       [0.92608902, 0.07391098],\n",
       "       [0.55307333, 0.44692667],\n",
       "       [0.82405243, 0.17594757],\n",
       "       [0.76316279, 0.23683721],\n",
       "       [0.3424131 , 0.6575869 ],\n",
       "       [0.93004703, 0.06995297],\n",
       "       [0.31612788, 0.68387212],\n",
       "       [0.83907024, 0.16092976],\n",
       "       [0.57613385, 0.42386615],\n",
       "       [0.42726232, 0.57273768],\n",
       "       [0.13783016, 0.86216984],\n",
       "       [0.59606413, 0.40393587],\n",
       "       [0.15520659, 0.84479341],\n",
       "       [0.79039564, 0.20960436],\n",
       "       [0.8709818 , 0.1290182 ],\n",
       "       [0.34501132, 0.65498868],\n",
       "       [0.46855391, 0.53144609],\n",
       "       [0.94821379, 0.05178621],\n",
       "       [0.90174735, 0.09825265],\n",
       "       [0.40951797, 0.59048203],\n",
       "       [0.58415395, 0.41584605],\n",
       "       [0.39654514, 0.60345486],\n",
       "       [0.65289339, 0.34710661],\n",
       "       [0.71444346, 0.28555654],\n",
       "       [0.68030022, 0.31969978],\n",
       "       [0.61098697, 0.38901303]])"
      ]
     },
     "execution_count": 25,
     "metadata": {},
     "output_type": "execute_result"
    }
   ],
   "source": [
    "model.predict_proba(X_test)"
   ]
  }
 ],
 "metadata": {
  "kernelspec": {
   "display_name": "Python 3 (ipykernel)",
   "language": "python",
   "name": "python3"
  },
  "language_info": {
   "codemirror_mode": {
    "name": "ipython",
    "version": 3
   },
   "file_extension": ".py",
   "mimetype": "text/x-python",
   "name": "python",
   "nbconvert_exporter": "python",
   "pygments_lexer": "ipython3",
   "version": "3.9.6"
  }
 },
 "nbformat": 4,
 "nbformat_minor": 5
}
